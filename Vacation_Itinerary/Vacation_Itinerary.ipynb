{
 "cells": [
  {
   "cell_type": "code",
   "execution_count": 1,
   "id": "002697c9",
   "metadata": {
    "scrolled": true
   },
   "outputs": [],
   "source": [
    "# Dependencies and Setup\n",
    "import pandas as pd\n",
    "import requests\n",
    "import gmaps\n",
    "from IPython.display import display\n",
    "\n",
    "# Import API key\n",
    "from config import g_key\n",
    "\n",
    "# Configure gmaps\n",
    "gmaps.configure(api_key=g_key)"
   ]
  },
  {
   "cell_type": "code",
   "execution_count": 2,
   "id": "f5f3e797",
   "metadata": {},
   "outputs": [
    {
     "data": {
      "text/html": [
       "<div>\n",
       "<style scoped>\n",
       "    .dataframe tbody tr th:only-of-type {\n",
       "        vertical-align: middle;\n",
       "    }\n",
       "\n",
       "    .dataframe tbody tr th {\n",
       "        vertical-align: top;\n",
       "    }\n",
       "\n",
       "    .dataframe thead th {\n",
       "        text-align: right;\n",
       "    }\n",
       "</style>\n",
       "<table border=\"1\" class=\"dataframe\">\n",
       "  <thead>\n",
       "    <tr style=\"text-align: right;\">\n",
       "      <th></th>\n",
       "      <th>City_ID</th>\n",
       "      <th>City</th>\n",
       "      <th>Country</th>\n",
       "      <th>Max Temp</th>\n",
       "      <th>Current Description</th>\n",
       "      <th>Lat</th>\n",
       "      <th>Lng</th>\n",
       "      <th>Hotel Name</th>\n",
       "    </tr>\n",
       "  </thead>\n",
       "  <tbody>\n",
       "    <tr>\n",
       "      <th>0</th>\n",
       "      <td>2</td>\n",
       "      <td>Vaini</td>\n",
       "      <td>TO</td>\n",
       "      <td>75.36</td>\n",
       "      <td>broken clouds</td>\n",
       "      <td>-21.2000</td>\n",
       "      <td>-175.2000</td>\n",
       "      <td>Keleti Beach Resort</td>\n",
       "    </tr>\n",
       "    <tr>\n",
       "      <th>1</th>\n",
       "      <td>4</td>\n",
       "      <td>Atuona</td>\n",
       "      <td>PF</td>\n",
       "      <td>77.20</td>\n",
       "      <td>broken clouds</td>\n",
       "      <td>-9.8000</td>\n",
       "      <td>-139.0333</td>\n",
       "      <td>Villa Enata</td>\n",
       "    </tr>\n",
       "    <tr>\n",
       "      <th>2</th>\n",
       "      <td>5</td>\n",
       "      <td>Ohara</td>\n",
       "      <td>JP</td>\n",
       "      <td>74.82</td>\n",
       "      <td>clear sky</td>\n",
       "      <td>35.2500</td>\n",
       "      <td>140.3833</td>\n",
       "      <td>Sakigake</td>\n",
       "    </tr>\n",
       "    <tr>\n",
       "      <th>3</th>\n",
       "      <td>7</td>\n",
       "      <td>Puerto Rondon</td>\n",
       "      <td>CO</td>\n",
       "      <td>84.45</td>\n",
       "      <td>scattered clouds</td>\n",
       "      <td>6.2805</td>\n",
       "      <td>-71.1000</td>\n",
       "      <td>Urbanización Santa Clara</td>\n",
       "    </tr>\n",
       "    <tr>\n",
       "      <th>4</th>\n",
       "      <td>8</td>\n",
       "      <td>Misratah</td>\n",
       "      <td>LY</td>\n",
       "      <td>79.54</td>\n",
       "      <td>clear sky</td>\n",
       "      <td>32.3754</td>\n",
       "      <td>15.0925</td>\n",
       "      <td>Almasa Hotel</td>\n",
       "    </tr>\n",
       "  </tbody>\n",
       "</table>\n",
       "</div>"
      ],
      "text/plain": [
       "   City_ID           City Country  Max Temp Current Description      Lat  \\\n",
       "0        2          Vaini      TO     75.36       broken clouds -21.2000   \n",
       "1        4         Atuona      PF     77.20       broken clouds  -9.8000   \n",
       "2        5          Ohara      JP     74.82           clear sky  35.2500   \n",
       "3        7  Puerto Rondon      CO     84.45    scattered clouds   6.2805   \n",
       "4        8       Misratah      LY     79.54           clear sky  32.3754   \n",
       "\n",
       "        Lng                Hotel Name  \n",
       "0 -175.2000       Keleti Beach Resort  \n",
       "1 -139.0333               Villa Enata  \n",
       "2  140.3833                  Sakigake  \n",
       "3  -71.1000  Urbanización Santa Clara  \n",
       "4   15.0925              Almasa Hotel  "
      ]
     },
     "execution_count": 2,
     "metadata": {},
     "output_type": "execute_result"
    }
   ],
   "source": [
    "# 1. Read the WeatherPy_vacation.csv into a DataFrame.\n",
    "vacation_df = pd.read_csv(r\"C:\\Users\\tmam9\\OneDrive - UniGroup, Inc\\Desktop\\Bootcamp\\Module6_PythonAPIs\\World_Weather_Analysis\\Vacation_Search\\WeatherPy_vacation.csv\")\n",
    "vacation_df.head()"
   ]
  },
  {
   "cell_type": "code",
   "execution_count": 3,
   "id": "581aadc6",
   "metadata": {},
   "outputs": [],
   "source": [
    "# 2. Using the template add the city name, the country code, the weather description and maximum temperature for the city.\n",
    "info_box_template = \"\"\"\n",
    "<dl>\n",
    "<dt>Hotel Name</dt><dd>{Hotel Name}</dd>\n",
    "<dt>City</dt><dd>{City}</dd>\n",
    "<dt>Country</dt><dd>{Country}</dd>\n",
    "<dt>Weather Description</dt><dd>{Current Description}</dd>\n",
    "<dt>Max Temp</dt><dd>{Max Temp} °F</dd>\n",
    "</dl>\n",
    "\"\"\"\n",
    "\n",
    "# 3a. Get the data from each row and add it to the formatting template and store the data in a list.\n",
    "hotel_info = [info_box_template.format(**row) for index, row in vacation_df.iterrows()]\n",
    "\n",
    "# 3b. Get the latitude and longitude from each row and store in a new DataFrame.\n",
    "locations = vacation_df[[\"Lat\", \"Lng\"]]"
   ]
  },
  {
   "cell_type": "code",
   "execution_count": 4,
   "id": "02f18708",
   "metadata": {},
   "outputs": [
    {
     "data": {
      "application/vnd.jupyter.widget-view+json": {
       "model_id": "cfe24aa7df434c42badd2b8831de4ce9",
       "version_major": 2,
       "version_minor": 0
      },
      "text/plain": [
       "Figure(layout=FigureLayout(height='420px'))"
      ]
     },
     "metadata": {},
     "output_type": "display_data"
    }
   ],
   "source": [
    "# 4a. Add a marker layer for each city to the map.\n",
    "#locations = vacation_df[[\"Lat\", \"Lng\"]]\n",
    "#fig = gmaps.figure(center=(30.0, 31.0), zoom_level=1.5)\n",
    "#marker_layer = gmaps.marker_layer(locations)\n",
    "#fig.add_layer(marker_layer)\n",
    "marker_layer = gmaps.marker_layer(locations, info_box_content=hotel_info)\n",
    "fig = gmaps.figure(center=(30.0, 31.0), zoom_level=1.4)\n",
    "fig.add_layer(marker_layer)\n",
    "fig\n",
    "# Call the figure to plot the data.\n",
    "fig\n",
    "# 4b. Display the figure"
   ]
  },
  {
   "cell_type": "code",
   "execution_count": 5,
   "id": "703d01a7",
   "metadata": {
    "scrolled": true
   },
   "outputs": [
    {
     "data": {
      "text/plain": [
       "Index(['City_ID', 'City', 'Country', 'Max Temp', 'Current Description', 'Lat',\n",
       "       'Lng', 'Hotel Name'],\n",
       "      dtype='object')"
      ]
     },
     "execution_count": 5,
     "metadata": {},
     "output_type": "execute_result"
    }
   ],
   "source": [
    "vacation_df.columns"
   ]
  },
  {
   "cell_type": "code",
   "execution_count": 6,
   "id": "eb1b4383",
   "metadata": {
    "scrolled": true
   },
   "outputs": [],
   "source": [
    "# From the map above pick 4 cities and create a vacation itinerary route to travel between the four cities. \n",
    "# 5. Create DataFrames for each city by filtering the 'vacation_df' using the loc method. \n",
    "# Hint: The starting and ending city should be the same city.\n",
    "vacation_start = vacation_df.loc[vacation_df[\"City\"] == \"Hinton\"]\n",
    "vacation_end = vacation_df.loc[vacation_df[\"City\"] == \"Hinton\"]\n",
    "vacation_stop1 = vacation_df.loc[vacation_df[\"City\"]==\"Rocky Mountain House\"]\n",
    "vacation_stop2 = vacation_df.loc[vacation_df[\"City\"] == \"Sylvan Lake\"] \n",
    "vacation_stop3 = vacation_df.loc[vacation_df[\"City\"] == \"Drumheller\"] "
   ]
  },
  {
   "cell_type": "code",
   "execution_count": 7,
   "id": "f57a1b7c",
   "metadata": {},
   "outputs": [
    {
     "name": "stdout",
     "output_type": "stream",
     "text": [
      "(53.4001, -117.5857)\n"
     ]
    }
   ],
   "source": [
    "# 6. Get the latitude-longitude pairs as tuples from each city DataFrame using the to_numpy function and list indexing.\n",
    "start = vacation_start[\"Lat\"].to_numpy()[0], vacation_start[\"Lng\"].to_numpy()[0]\n",
    "end = vacation_start['Lat'].to_numpy()[0], vacation_start['Lng'].to_numpy()[0]\n",
    "stop1 = vacation_stop1['Lat'].to_numpy()[0], vacation_stop1['Lng'].to_numpy()[0]\n",
    "stop2 = vacation_stop2['Lat'].to_numpy()[0], vacation_stop2['Lng'].to_numpy()[0]\n",
    "stop3 = vacation_stop2['Lat'].to_numpy()[0], vacation_stop2['Lng'].to_numpy()[0]\n",
    "print(start)"
   ]
  },
  {
   "cell_type": "code",
   "execution_count": 8,
   "id": "1da0e048",
   "metadata": {},
   "outputs": [
    {
     "data": {
      "application/vnd.jupyter.widget-view+json": {
       "model_id": "bd47aed29ab444e9a040b2cc40962c3d",
       "version_major": 2,
       "version_minor": 0
      },
      "text/plain": [
       "Figure(layout=FigureLayout(height='420px'))"
      ]
     },
     "metadata": {},
     "output_type": "display_data"
    }
   ],
   "source": [
    "# 7. Create a direction layer map using the start and end latitude-longitude pairs,\n",
    "# and stop1, stop2, and stop3 as the waypoints. The travel_mode should be \"DRIVING\", \"BICYCLING\", or \"WALKING\".\n",
    "fig = gmaps.figure()\n",
    "vacation_itinerary = gmaps.directions_layer(\n",
    "    start, end,\n",
    "waypoints=[stop1, stop2, stop3],\n",
    "    travel_mode='DRIVING')\n",
    "\n",
    "fig.add_layer(vacation_itinerary)\n",
    "fig"
   ]
  },
  {
   "cell_type": "code",
   "execution_count": 9,
   "id": "0cd830ba",
   "metadata": {},
   "outputs": [
    {
     "data": {
      "text/html": [
       "<div>\n",
       "<style scoped>\n",
       "    .dataframe tbody tr th:only-of-type {\n",
       "        vertical-align: middle;\n",
       "    }\n",
       "\n",
       "    .dataframe tbody tr th {\n",
       "        vertical-align: top;\n",
       "    }\n",
       "\n",
       "    .dataframe thead th {\n",
       "        text-align: right;\n",
       "    }\n",
       "</style>\n",
       "<table border=\"1\" class=\"dataframe\">\n",
       "  <thead>\n",
       "    <tr style=\"text-align: right;\">\n",
       "      <th></th>\n",
       "      <th>City_ID</th>\n",
       "      <th>City</th>\n",
       "      <th>Country</th>\n",
       "      <th>Max Temp</th>\n",
       "      <th>Current Description</th>\n",
       "      <th>Lat</th>\n",
       "      <th>Lng</th>\n",
       "      <th>Hotel Name</th>\n",
       "    </tr>\n",
       "  </thead>\n",
       "  <tbody>\n",
       "    <tr>\n",
       "      <th>0</th>\n",
       "      <td>633</td>\n",
       "      <td>Hinton</td>\n",
       "      <td>CA</td>\n",
       "      <td>71.55</td>\n",
       "      <td>broken clouds</td>\n",
       "      <td>53.4001</td>\n",
       "      <td>-117.5857</td>\n",
       "      <td>Econo Lodge &amp; Suites</td>\n",
       "    </tr>\n",
       "    <tr>\n",
       "      <th>1</th>\n",
       "      <td>394</td>\n",
       "      <td>Rocky Mountain House</td>\n",
       "      <td>CA</td>\n",
       "      <td>71.71</td>\n",
       "      <td>scattered clouds</td>\n",
       "      <td>52.3668</td>\n",
       "      <td>-114.9188</td>\n",
       "      <td>Walking Eagle Inn &amp; Lodge</td>\n",
       "    </tr>\n",
       "    <tr>\n",
       "      <th>2</th>\n",
       "      <td>111</td>\n",
       "      <td>Sylvan Lake</td>\n",
       "      <td>CA</td>\n",
       "      <td>71.17</td>\n",
       "      <td>clear sky</td>\n",
       "      <td>52.3168</td>\n",
       "      <td>-114.0853</td>\n",
       "      <td>Best Western Plus Chateau Inn Sylvan Lake</td>\n",
       "    </tr>\n",
       "    <tr>\n",
       "      <th>3</th>\n",
       "      <td>31</td>\n",
       "      <td>Drumheller</td>\n",
       "      <td>CA</td>\n",
       "      <td>78.13</td>\n",
       "      <td>broken clouds</td>\n",
       "      <td>51.4617</td>\n",
       "      <td>-112.7101</td>\n",
       "      <td>Ramada by Wyndham Drumheller Hotel &amp; Suites</td>\n",
       "    </tr>\n",
       "  </tbody>\n",
       "</table>\n",
       "</div>"
      ],
      "text/plain": [
       "   City_ID                  City Country  Max Temp Current Description  \\\n",
       "0      633                Hinton      CA     71.55       broken clouds   \n",
       "1      394  Rocky Mountain House      CA     71.71    scattered clouds   \n",
       "2      111           Sylvan Lake      CA     71.17           clear sky   \n",
       "3       31            Drumheller      CA     78.13       broken clouds   \n",
       "\n",
       "       Lat       Lng                                   Hotel Name  \n",
       "0  53.4001 -117.5857                         Econo Lodge & Suites  \n",
       "1  52.3668 -114.9188                    Walking Eagle Inn & Lodge  \n",
       "2  52.3168 -114.0853    Best Western Plus Chateau Inn Sylvan Lake  \n",
       "3  51.4617 -112.7101  Ramada by Wyndham Drumheller Hotel & Suites  "
      ]
     },
     "execution_count": 9,
     "metadata": {},
     "output_type": "execute_result"
    }
   ],
   "source": [
    "# 8. To create a marker layer map between the four cities.\n",
    "#  Combine the four city DataFrames into one DataFrame using the concat() function.\n",
    "itinerary_df = pd.concat([vacation_start, vacation_stop1, vacation_stop2, vacation_stop3],ignore_index=True)\n",
    "itinerary_df"
   ]
  },
  {
   "cell_type": "code",
   "execution_count": 11,
   "id": "0d851745",
   "metadata": {},
   "outputs": [],
   "source": [
    "# 9 Using the template add city name, the country code, the weather description and maximum temperature for the city. \n",
    "info_box_template = \"\"\"\n",
    "<dl>\n",
    "<dt>Hotel Name</dt><dd>{Hotel Name}</dd>\n",
    "<dt>City</dt><dd>{City}</dd>\n",
    "<dt>Country</dt><dd>{Country}</dd>\n",
    "<dt>Weather Description</dt><dd>{Current Description}</dd>\n",
    "<dt>Max Temp</dt><dd>{Max Temp}</dd>\n",
    "</dl>\n",
    "\"\"\"\n",
    "\n",
    "# 10a Get the data from each row and add it to the formatting template and store the data in a list.\n",
    "hotel_info = [info_box_template.format(**row) for index, row in itinerary_df.iterrows()]\n",
    "\n",
    "# 10b. Get the latitude and longitude from each row and store in a new DataFrame.\n",
    "locations = itinerary_df[[\"Lat\", \"Lng\"]]"
   ]
  },
  {
   "cell_type": "code",
   "execution_count": 12,
   "id": "8026e0e7",
   "metadata": {},
   "outputs": [
    {
     "data": {
      "application/vnd.jupyter.widget-view+json": {
       "model_id": "0fbf98569c774b21bea7e76b3c044329",
       "version_major": 2,
       "version_minor": 0
      },
      "text/plain": [
       "Figure(layout=FigureLayout(height='420px'))"
      ]
     },
     "metadata": {},
     "output_type": "display_data"
    }
   ],
   "source": [
    "# 11a. Add a marker layer for each city to the map.\n",
    "fig = gmaps.figure()\n",
    "markers = gmaps.marker_layer(locations, info_box_content=hotel_info)\n",
    "fig.add_layer(markers)\n",
    "# 11b. Display the figure\n",
    "fig"
   ]
  },
  {
   "cell_type": "code",
   "execution_count": null,
   "id": "d55222a2",
   "metadata": {},
   "outputs": [],
   "source": []
  }
 ],
 "metadata": {
  "kernelspec": {
   "display_name": "Python 3 (ipykernel)",
   "language": "python",
   "name": "python3"
  },
  "language_info": {
   "codemirror_mode": {
    "name": "ipython",
    "version": 3
   },
   "file_extension": ".py",
   "mimetype": "text/x-python",
   "name": "python",
   "nbconvert_exporter": "python",
   "pygments_lexer": "ipython3",
   "version": "3.7.13"
  }
 },
 "nbformat": 4,
 "nbformat_minor": 5
}
