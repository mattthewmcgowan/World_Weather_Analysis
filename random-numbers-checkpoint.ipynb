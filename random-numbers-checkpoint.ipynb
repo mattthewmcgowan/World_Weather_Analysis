{
 "cells": [
  {
   "cell_type": "code",
   "execution_count": 1,
   "id": "7bafc9e7",
   "metadata": {},
   "outputs": [],
   "source": [
    "# Import the random module \n",
    "import random "
   ]
  },
  {
   "cell_type": "code",
   "execution_count": 4,
   "id": "5566cf09",
   "metadata": {},
   "outputs": [
    {
     "data": {
      "text/plain": [
       "52"
      ]
     },
     "execution_count": 4,
     "metadata": {},
     "output_type": "execute_result"
    }
   ],
   "source": [
    "random.randint(-90, 90)"
   ]
  },
  {
   "cell_type": "code",
   "execution_count": 5,
   "id": "e0a2b9e9",
   "metadata": {},
   "outputs": [
    {
     "data": {
      "text/plain": [
       "0.23193475715858336"
      ]
     },
     "execution_count": 5,
     "metadata": {},
     "output_type": "execute_result"
    }
   ],
   "source": [
    "random.random()"
   ]
  },
  {
   "cell_type": "code",
   "execution_count": 6,
   "id": "a6efda06",
   "metadata": {},
   "outputs": [
    {
     "data": {
      "text/plain": [
       "-52.949147025477096"
      ]
     },
     "execution_count": 6,
     "metadata": {},
     "output_type": "execute_result"
    }
   ],
   "source": [
    "# Genearting Random Latitudes \n",
    "random_number = random.randint(-90, 89) + random.random()\n",
    "random_number "
   ]
  },
  {
   "cell_type": "code",
   "execution_count": 10,
   "id": "30509421",
   "metadata": {},
   "outputs": [
    {
     "name": "stdout",
     "output_type": "stream",
     "text": [
      "[67.3058260965087, 59.74504244906158, -45.82907089796393, 38.872217219285325, -62.86285856972849, -25.783217930479317, 30.047989481700743, 64.97766381811508, -10.82651829935886, -16.853535189887705]\n"
     ]
    }
   ],
   "source": [
    "# Generating 10 random floating decimals\n",
    "x = 1 \n",
    "\n",
    "latitudes = []\n",
    "\n",
    "while x < 11: \n",
    "    random_lat = random.randint(-90, 89) + random.random()\n",
    "    latitudes.append(random_lat)\n",
    "    \n",
    "    x +=1\n",
    "print(latitudes)"
   ]
  },
  {
   "cell_type": "code",
   "execution_count": 12,
   "id": "d2cf73bf",
   "metadata": {},
   "outputs": [
    {
     "data": {
      "text/plain": [
       "-70"
      ]
     },
     "execution_count": 12,
     "metadata": {},
     "output_type": "execute_result"
    }
   ],
   "source": [
    "random.randrange(-90, 90, step=1)"
   ]
  },
  {
   "cell_type": "code",
   "execution_count": 13,
   "id": "ba919b1f",
   "metadata": {},
   "outputs": [
    {
     "data": {
      "text/plain": [
       "33"
      ]
     },
     "execution_count": 13,
     "metadata": {},
     "output_type": "execute_result"
    }
   ],
   "source": [
    "random.randrange(-90, 90, step=3)"
   ]
  },
  {
   "cell_type": "code",
   "execution_count": 14,
   "id": "ca1a9884",
   "metadata": {},
   "outputs": [
    {
     "data": {
      "text/plain": [
       "49.05465857364848"
      ]
     },
     "execution_count": 14,
     "metadata": {},
     "output_type": "execute_result"
    }
   ],
   "source": [
    "# The Uniform() function \n",
    "random.uniform(-90, 90)"
   ]
  },
  {
   "cell_type": "code",
   "execution_count": 17,
   "id": "e93401dc",
   "metadata": {},
   "outputs": [],
   "source": [
    "# Import the numpy module\n",
    "import numpy as np "
   ]
  },
  {
   "cell_type": "code",
   "execution_count": 18,
   "id": "642f3a45",
   "metadata": {},
   "outputs": [
    {
     "data": {
      "text/plain": [
       "0.5396475767784921"
      ]
     },
     "execution_count": 18,
     "metadata": {},
     "output_type": "execute_result"
    }
   ],
   "source": [
    "np.random.uniform(-90.000, 90.000)"
   ]
  },
  {
   "cell_type": "code",
   "execution_count": 19,
   "id": "4812c3c3",
   "metadata": {},
   "outputs": [
    {
     "data": {
      "text/plain": [
       "array([-81.99391746, -50.0303782 ,  79.40858829, -17.62302913,\n",
       "        83.8554578 ,  69.28800057,  65.06967145,  39.22313271,\n",
       "        45.20842894, -27.84363099, -75.8337294 ,  68.15247297,\n",
       "       -11.30993834,  38.42608125, -49.96551653,  47.06336515,\n",
       "        51.59927898, -22.32614847,  74.55904905, -31.56306378,\n",
       "       -77.88774572, -80.34633525,  25.850314  , -68.2349241 ,\n",
       "        42.52160709,  86.1712395 ,  24.80789924,  10.66114451,\n",
       "       -31.30482888, -77.49260272, -79.87106178, -83.01034973,\n",
       "        24.02779048,  46.87284427, -56.6314115 ,  -4.69256442,\n",
       "        62.77212758, -51.45273723,  39.78680371,  45.79364222,\n",
       "       -20.09060795,  24.34193086,  67.34593738,  78.20098951,\n",
       "        34.11066656, -80.89222563, -56.38211975, -33.79951847,\n",
       "       -50.56897148,  48.09850764])"
      ]
     },
     "execution_count": 19,
     "metadata": {},
     "output_type": "execute_result"
    }
   ],
   "source": [
    "# Adding size parameter\n",
    "np.random.uniform(-90.000, 90.000, size=50)"
   ]
  },
  {
   "cell_type": "code",
   "execution_count": 20,
   "id": "e73a2a57",
   "metadata": {},
   "outputs": [],
   "source": [
    "# Import timeit. \n",
    "import timeit"
   ]
  },
  {
   "cell_type": "code",
   "execution_count": 22,
   "id": "812e2108",
   "metadata": {},
   "outputs": [
    {
     "name": "stdout",
     "output_type": "stream",
     "text": [
      "20.5 µs ± 2.06 µs per loop (mean ± std. dev. of 7 runs, 10,000 loops each)\n"
     ]
    }
   ],
   "source": [
    "%timeit np.random.uniform(-90.000, 90.000, size=1500)"
   ]
  },
  {
   "cell_type": "code",
   "execution_count": 23,
   "id": "f456fdc7",
   "metadata": {},
   "outputs": [
    {
     "name": "stdout",
     "output_type": "stream",
     "text": [
      "2.33 ms ± 136 µs per loop (mean ± std. dev. of 7 runs, 100 loops each)\n"
     ]
    }
   ],
   "source": [
    "def latitudes(size):\n",
    "    latitudes = []\n",
    "    x = 0\n",
    "    while x < (size):\n",
    "        random_lat = random.randint(-90, 90) + random.random()\n",
    "        latitudes.append(random_lat)\n",
    "        x += 1\n",
    "    return latitudes\n",
    "# Call the function with 1500.\n",
    "%timeit latitudes(1500)"
   ]
  },
  {
   "cell_type": "code",
   "execution_count": null,
   "id": "2e794938",
   "metadata": {},
   "outputs": [],
   "source": []
  }
 ],
 "metadata": {
  "kernelspec": {
   "display_name": "Python 3 (ipykernel)",
   "language": "python",
   "name": "python3"
  },
  "language_info": {
   "codemirror_mode": {
    "name": "ipython",
    "version": 3
   },
   "file_extension": ".py",
   "mimetype": "text/x-python",
   "name": "python",
   "nbconvert_exporter": "python",
   "pygments_lexer": "ipython3",
   "version": "3.9.12"
  }
 },
 "nbformat": 4,
 "nbformat_minor": 5
}
